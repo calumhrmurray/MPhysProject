{
 "cells": [
  {
   "cell_type": "code",
   "execution_count": 1,
   "metadata": {
    "collapsed": false
   },
   "outputs": [],
   "source": [
    "import kcorrect\n",
    "import numpy as np\n",
    "import matplotlib.pyplot as plt\n",
    "import plotting_tools as pt\n",
    "%matplotlib inline\n",
    "import itertools\n",
    "\n",
    "from astropy.cosmology import FlatLambdaCDM\n",
    "import astropy.units as u\n",
    "\n",
    "cosmo = FlatLambdaCDM(H0=70 * u.km / u.s / u.Mpc, Om0=0.3)\n",
    "\n",
    "#array input form\n",
    "# ukidds \n",
    "# 0 yPetroMag, 1\n",
    "# 1 yPetroMagErr, \n",
    "# 2 hPetroMag, \n",
    "# 3 hPetroMagErr,\n",
    "# 4 kPetroMag, \n",
    "# 5 kPetroMagErr,\n",
    "# wise: \n",
    "# 6 w1mpro, \n",
    "# 7 w1sigmpro, \n",
    "# 8 w2mpro , \n",
    "# 9 w2sigmpro, \n",
    "# 10 w3mpro,\n",
    "# 11 w3sigmpro, \n",
    "# 12 w4mpro, \n",
    "# 13 w4sigmpro,\n",
    "# galex:\n",
    "# 14 nuv_mag, \n",
    "# 15 nuv_magerr, \n",
    "# 16 fuv_mag, \n",
    "# 17 galex.fuv_magerr, \n",
    "# sdss: \n",
    "# 18 modelMag_u,\n",
    "# 19 modelMag_g, \n",
    "# 20 modelMag_r, \n",
    "# 21 modelMag_i, \n",
    "# 22 modelMag_z, \n",
    "# 23 modelMagErr_u,               \n",
    "# 24 modelMagErr_g ,\n",
    "# 25 modelMagErr_r, \n",
    "# 26 modelMagErr_i, \n",
    "# 27 modelMagErr_z, \n",
    "# 28 petroMagr,  \n",
    "# m.z"
   ]
  },
  {
   "cell_type": "code",
   "execution_count": null,
   "metadata": {
    "collapsed": true
   },
   "outputs": [],
   "source": [
    "#kcorrect.load_templates()\n",
    "kcorrect.load_filters(f='galex_filters.dat')\n",
    "kcorrect.load_filters()"
   ]
  },
  {
   "cell_type": "code",
   "execution_count": 1,
   "metadata": {
    "collapsed": false
   },
   "outputs": [
    {
     "ename": "NameError",
     "evalue": "name 'np' is not defined",
     "output_type": "error",
     "traceback": [
      "\u001b[1;31m---------------------------------------------------------------------------\u001b[0m",
      "\u001b[1;31mNameError\u001b[0m                                 Traceback (most recent call last)",
      "\u001b[1;32m<ipython-input-1-70c482509455>\u001b[0m in \u001b[0;36m<module>\u001b[1;34m()\u001b[0m\n\u001b[1;32m----> 1\u001b[1;33m \u001b[0mgalaxies\u001b[0m \u001b[1;33m=\u001b[0m \u001b[0mnp\u001b[0m\u001b[1;33m.\u001b[0m\u001b[0mload\u001b[0m\u001b[1;33m(\u001b[0m\u001b[1;34m'/home/calum/Documents/Mphys_data/mgs_multiwavelength/first_all_colours.npy'\u001b[0m\u001b[1;33m)\u001b[0m\u001b[1;33m\u001b[0m\u001b[0m\n\u001b[0m\u001b[0;32m      2\u001b[0m \u001b[0mgalaxies\u001b[0m\u001b[1;33m.\u001b[0m\u001b[0mshape\u001b[0m\u001b[1;33m\u001b[0m\u001b[0m\n",
      "\u001b[1;31mNameError\u001b[0m: name 'np' is not defined"
     ]
    }
   ],
   "source": [
    "galaxies = np.load('/home/calum/Documents/Mphys_data/mgs_multiwavelength/first_all_colours.npy')\n",
    "galaxies.shape"
   ]
  },
  {
   "cell_type": "code",
   "execution_count": null,
   "metadata": {
    "collapsed": false
   },
   "outputs": [],
   "source": [
    "rlim_galaxies = np.array([row for row in galaxies if 0.08>row[-1]>0.004])\n",
    "rlim_galaxies.shape"
   ]
  },
  {
   "cell_type": "code",
   "execution_count": 36,
   "metadata": {
    "collapsed": false
   },
   "outputs": [],
   "source": [
    "a = np.array([rlim_galaxies[5][-1], rlim_galaxies[5][14],rlim_galaxies[5][16],rlim_galaxies[5][15],rlim_galaxies[5][17]])"
   ]
  },
  {
   "cell_type": "code",
   "execution_count": 37,
   "metadata": {
    "collapsed": false
   },
   "outputs": [
    {
     "data": {
      "text/plain": [
       "array([  0.07069602,  19.99795723,  20.69333649,   0.04394454,   0.07024576])"
      ]
     },
     "execution_count": 37,
     "metadata": {},
     "output_type": "execute_result"
    }
   ],
   "source": [
    "a"
   ]
  },
  {
   "cell_type": "code",
   "execution_count": 42,
   "metadata": {
    "collapsed": false
   },
   "outputs": [
    {
     "data": {
      "text/plain": [
       "(array([  1.00188323e-08,   5.28038277e-09]),\n",
       " array([  6.08141477e+18,   8.56796388e+18]))"
      ]
     },
     "execution_count": 42,
     "metadata": {},
     "output_type": "execute_result"
    }
   ],
   "source": [
    "maggies = pow(10,-0.4*np.array(a[1:3]))\n",
    "invar = pow(0.4*np.log(10)*maggies*np.array(a[3:]),-2)\n",
    "maggies,invar"
   ]
  },
  {
   "cell_type": "code",
   "execution_count": 46,
   "metadata": {
    "collapsed": false
   },
   "outputs": [
    {
     "data": {
      "text/plain": [
       "[0.070696018636226654,\n",
       " 1.0018832321138506e-08,\n",
       " 5.2803827699807325e-09,\n",
       " 6.0814147732591944e+18,\n",
       " 8.5679638750963804e+18]"
      ]
     },
     "execution_count": 46,
     "metadata": {},
     "output_type": "execute_result"
    }
   ],
   "source": [
    "final_a = [a[0],maggies[0],maggies[1],invar[0],invar[1]]\n",
    "final_a"
   ]
  },
  {
   "cell_type": "code",
   "execution_count": 13,
   "metadata": {
    "collapsed": false
   },
   "outputs": [
    {
     "data": {
      "text/plain": [
       "array([ 0.03077382,        -inf,        -inf,         nan,        -inf,\n",
       "               nan], dtype=float32)"
      ]
     },
     "execution_count": 13,
     "metadata": {},
     "output_type": "execute_result"
    }
   ],
   "source": [
    "c = kcorrect.fit_coeffs(a,)\n",
    "c"
   ]
  },
  {
   "cell_type": "code",
   "execution_count": 8,
   "metadata": {
    "collapsed": true
   },
   "outputs": [],
   "source": [
    "m = kcorrect.reconstruct_maggies(c)"
   ]
  },
  {
   "cell_type": "code",
   "execution_count": 40,
   "metadata": {
    "collapsed": false
   },
   "outputs": [],
   "source": [
    "kcorrect.load_filters(band_shift=0.06)"
   ]
  },
  {
   "cell_type": "code",
   "execution_count": 24,
   "metadata": {
    "collapsed": false
   },
   "outputs": [
    {
     "ename": "TypeError",
     "evalue": "'builtin_function_or_method' object is not subscriptable",
     "output_type": "error",
     "traceback": [
      "\u001b[1;31m---------------------------------------------------------------------------\u001b[0m",
      "\u001b[1;31mTypeError\u001b[0m                                 Traceback (most recent call last)",
      "\u001b[1;32m<ipython-input-24-102221be84b6>\u001b[0m in \u001b[0;36m<module>\u001b[1;34m()\u001b[0m\n\u001b[1;32m----> 1\u001b[1;33m \u001b[0mkcorrect\u001b[0m\u001b[1;33m.\u001b[0m\u001b[0mproject_filters\u001b[0m\u001b[1;33m(\u001b[0m\u001b[0mnp\u001b[0m\u001b[1;33m.\u001b[0m\u001b[0marray\u001b[0m\u001b[1;33m[\u001b[0m\u001b[1;36m22\u001b[0m\u001b[1;33m]\u001b[0m\u001b[1;33m,\u001b[0m\u001b[0mnp\u001b[0m\u001b[1;33m.\u001b[0m\u001b[0marray\u001b[0m\u001b[1;33m[\u001b[0m\u001b[1;36m20\u001b[0m\u001b[1;33m]\u001b[0m\u001b[1;33m)\u001b[0m\u001b[1;33m\u001b[0m\u001b[0m\n\u001b[0m",
      "\u001b[1;31mTypeError\u001b[0m: 'builtin_function_or_method' object is not subscriptable"
     ]
    }
   ],
   "source": [
    "kcorrect.project_filters(np.array[22],np.array[20])"
   ]
  },
  {
   "cell_type": "code",
   "execution_count": 38,
   "metadata": {
    "collapsed": false
   },
   "outputs": [],
   "source": [
    "a=[0.03077382, 1.144068e-08, 5.262234e-08, 8.210213e-08, 8.744532e-08, 1.017738e-07, 6.216309e+16, 3.454767e+17, 1.827409e+17, 1.080889e+16, 3163927000000000.0]"
   ]
  },
  {
   "cell_type": "code",
   "execution_count": 41,
   "metadata": {
    "collapsed": true
   },
   "outputs": [],
   "source": [
    "import inspect"
   ]
  },
  {
   "cell_type": "code",
   "execution_count": 42,
   "metadata": {
    "collapsed": false
   },
   "outputs": [
    {
     "data": {
      "text/plain": [
       "(['def fit_coeffs(c):\\n',\n",
       "  \"    c = numpy.array(c, dtype='float32')    \\n\",\n",
       "  '    if len(c) == 11:\\n',\n",
       "  '        return _kcorrect.fit_coeffs(c)\\n',\n",
       "  '    else:\\n',\n",
       "  \"        raise _kcorrect.error('for this deault sdss filters, number of argument should be 11')\\n\"],\n",
       " 33)"
      ]
     },
     "execution_count": 42,
     "metadata": {},
     "output_type": "execute_result"
    }
   ],
   "source": [
    "inspect.getsourcelines(kcorrect.fit_coeffs)"
   ]
  },
  {
   "cell_type": "code",
   "execution_count": 43,
   "metadata": {
    "collapsed": false
   },
   "outputs": [
    {
     "data": {
      "text/plain": [
       "'/home/calum/anaconda3/lib/python3.5/site-packages/kcorrect/__init__.py'"
      ]
     },
     "execution_count": 43,
     "metadata": {},
     "output_type": "execute_result"
    }
   ],
   "source": [
    "inspect.getsourcefile(kcorrect.fit_coeffs)"
   ]
  },
  {
   "cell_type": "code",
   "execution_count": 14,
   "metadata": {
    "collapsed": true
   },
   "outputs": [],
   "source": [
    "import _kcorrect"
   ]
  },
  {
   "cell_type": "code",
   "execution_count": 15,
   "metadata": {
    "collapsed": false
   },
   "outputs": [
    {
     "data": {
      "text/plain": [
       "'/home/calum/anaconda3/lib/python3.5/site-packages/_kcorrect.cpython-35m-x86_64-linux-gnu.so'"
      ]
     },
     "execution_count": 15,
     "metadata": {},
     "output_type": "execute_result"
    }
   ],
   "source": [
    "_kcorrect.__file__"
   ]
  },
  {
   "cell_type": "code",
   "execution_count": null,
   "metadata": {
    "collapsed": true
   },
   "outputs": [],
   "source": []
  }
 ],
 "metadata": {
  "kernelspec": {
   "display_name": "Python 3",
   "language": "python",
   "name": "python3"
  },
  "language_info": {
   "codemirror_mode": {
    "name": "ipython",
    "version": 3
   },
   "file_extension": ".py",
   "mimetype": "text/x-python",
   "name": "python",
   "nbconvert_exporter": "python",
   "pygments_lexer": "ipython3",
   "version": "3.5.1"
  }
 },
 "nbformat": 4,
 "nbformat_minor": 0
}

{
 "cells": [
  {
   "cell_type": "code",
   "execution_count": 1,
   "metadata": {
    "collapsed": false
   },
   "outputs": [],
   "source": [
    "# for plotting frequency vs distance histograms\n",
    "import numpy as np\n",
    "import matplotlib.pyplot as plt\n",
    "from scipy.stats import norm\n",
    "import matplotlib.mlab as mlab\n",
    "from scipy.optimize import curve_fit\n",
    "from astropy import units as u\n",
    "import math\n",
    "%matplotlib inline\n",
    "plt.rcParams['agg.path.chunksize'] = 10000\n",
    "# for calculating distances between objects\n",
    "from astropy import units as u\n",
    "from astropy.coordinates import SkyCoord"
   ]
  },
  {
   "cell_type": "code",
   "execution_count": 2,
   "metadata": {
    "collapsed": true
   },
   "outputs": [],
   "source": [
    "def plot_hist(array,bin_num):\n",
    "    n, bins, patches = plt.hist(array,bins=bin_num)\n",
    "    plt.close()\n",
    "    return bins, n"
   ]
  },
  {
   "cell_type": "code",
   "execution_count": 3,
   "metadata": {
    "collapsed": true
   },
   "outputs": [],
   "source": [
    "def make_graphs(file_str, nbins, title_str = None, save_str = 'images/null', x_lim = None, w = 20, h =10, colour='k'):\n",
    "    array = np.load(file_str)\n",
    "    print(array.shape)\n",
    "    # create histogram and convert from arcminutes to arcseconds\n",
    "    bins, n = plot_hist([row[1]*60. for row in array],nbins)\n",
    "      \n",
    "   \n",
    "    step = 0.5*(bins[1]-bins[0])\n",
    "    \n",
    "    fig = plt.figure(figsize=(w,h))\n",
    "    plt.plot(bins[:-1]+step, n, colour)\n",
    "    plt.xlabel('Distance (arcseconds)', fontsize ='12' )\n",
    "    plt.ylabel('Frequency', fontsize ='12')\n",
    "    if title_str != None:\n",
    "        plt.title(title_str)\n",
    "    plt.xlim(0,x_lim)\n",
    "    #plt.savefig(save_str)\n",
    "    \n",
    "    return "
   ]
  },
  {
   "cell_type": "code",
   "execution_count": 4,
   "metadata": {
    "collapsed": true
   },
   "outputs": [],
   "source": [
    "def make_array_graphs(in_array, nbins, title_str = None, save_str = 'images/null', x_lim = None, w = 20, h =10, colour='k'):\n",
    "    array = np.array(in_array)\n",
    "    print(array.shape)\n",
    "    # create histogram and convert from arcminutes to arcseconds\n",
    "    bins, n = plot_hist(array,nbins)\n",
    "      \n",
    "   \n",
    "    step = 0.5*(bins[1]-bins[0])\n",
    "    \n",
    "    fig = plt.figure(figsize=(w,h))\n",
    "    plt.plot(bins[:-1]+step, n, colour)\n",
    "    plt.xlabel('Distance (arcseconds)', fontsize ='12' )\n",
    "    plt.ylabel('Frequency', fontsize ='12')\n",
    "    if title_str != None:\n",
    "        plt.title(title_str)\n",
    "    #plt.xlim(0,x_lim)\n",
    "    #plt.savefig(save_str)\n",
    "    \n",
    "    return "
   ]
  },
  {
   "cell_type": "code",
   "execution_count": 5,
   "metadata": {
    "collapsed": false
   },
   "outputs": [
    {
     "name": "stdout",
     "output_type": "stream",
     "text": [
      "(1000000, 2)\n"
     ]
    },
    {
     "data": {
      "image/png": "[encoded data removed]",
      "text/plain": [
       "<matplotlib.figure.Figure at 0x7f45a9b0eb70>"
      ]
     },
     "metadata": {},
     "output_type": "display_data"
    }
   ],
   "source": [
    "make_graphs('/home/calum/Documents/Mphys_data/mgs_multiwavelength/contamination.npy',600, w=10, h=5,save_str='images/all_sdss.png', x_lim=11)\n",
    "plt.savefig('images/all_sdss.png')"
   ]
  },
  {
   "cell_type": "code",
   "execution_count": 13,
   "metadata": {
    "collapsed": false
   },
   "outputs": [],
   "source": [
    "# get a random coordinate which is within the coverage\n",
    "\n",
    "# compare this against the catalog and find the angular distance between this and the closest coordinate\n",
    "\n",
    "# return list of distance mins\n"
   ]
  },
  {
   "cell_type": "code",
   "execution_count": null,
   "metadata": {
    "collapsed": false
   },
   "outputs": [],
   "source": []
  },
  {
   "cell_type": "code",
   "execution_count": null,
   "metadata": {
    "collapsed": false
   },
   "outputs": [],
   "source": [
    "  "
   ]
  },
  {
   "cell_type": "code",
   "execution_count": null,
   "metadata": {
    "collapsed": false
   },
   "outputs": [],
   "source": []
  },
  {
   "cell_type": "code",
   "execution_count": null,
   "metadata": {
    "collapsed": false
   },
   "outputs": [],
   "source": []
  },
  {
   "cell_type": "code",
   "execution_count": null,
   "metadata": {
    "collapsed": false
   },
   "outputs": [],
   "source": []
  },
  {
   "cell_type": "code",
   "execution_count": null,
   "metadata": {
    "collapsed": true
   },
   "outputs": [],
   "source": []
  }
 ],
 "metadata": {
  "kernelspec": {
   "display_name": "Python 3",
   "language": "python",
   "name": "python3"
  },
  "language_info": {
   "codemirror_mode": {
    "name": "ipython",
    "version": 3
   },
   "file_extension": ".py",
   "mimetype": "text/x-python",
   "name": "python",
   "nbconvert_exporter": "python",
   "pygments_lexer": "ipython3",
   "version": "3.5.1"
  }
 },
 "nbformat": 4,
 "nbformat_minor": 0
}

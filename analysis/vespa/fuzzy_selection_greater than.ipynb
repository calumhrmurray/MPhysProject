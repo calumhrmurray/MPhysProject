{
 "cells": [
  {
   "cell_type": "code",
   "execution_count": 2,
   "metadata": {
    "collapsed": true
   },
   "outputs": [],
   "source": [
    "import numpy as np"
   ]
  },
  {
   "cell_type": "code",
   "execution_count": 3,
   "metadata": {
    "collapsed": false
   },
   "outputs": [],
   "source": [
    "# working out how to do special indexing for fuzzy cluster choices \n",
    "\n",
    "values = np.array([['a','b','c','e'],['cow','sheep','dress'],\n",
    "                   ['next'],['cardiff','edinburgh'],['calum'],\n",
    "                   ['more'],['final','multiple params']])\n",
    "\n",
    "#values = np.arange(7)\n",
    "\n",
    "\n",
    "array = np.array([[0.8,0.1,0.5,0.9,0.2,0.8,0.1],\n",
    "                  [0.6,0.1,0.7,0.1,0.4,0.1,0.8],\n",
    "                  [0.1,0.4,0.2,0.6,0.9,0.1,0.8]])"
   ]
  },
  {
   "cell_type": "code",
   "execution_count": 4,
   "metadata": {
    "collapsed": false
   },
   "outputs": [
    {
     "data": {
      "text/plain": [
       "array([0, 2, 1, 0, 2, 0, 1])"
      ]
     },
     "execution_count": 4,
     "metadata": {},
     "output_type": "execute_result"
    }
   ],
   "source": [
    "np.argmax(array,axis=0)"
   ]
  },
  {
   "cell_type": "code",
   "execution_count": 5,
   "metadata": {
    "collapsed": false
   },
   "outputs": [
    {
     "name": "stdout",
     "output_type": "stream",
     "text": [
      "0 0.8\n",
      "-1 0.4\n",
      "-1 0.7\n",
      "0 0.9\n",
      "2 0.9\n",
      "0 0.8\n",
      "1 0.8\n"
     ]
    }
   ],
   "source": [
    "members= []\n",
    "\n",
    "for row in array.T:\n",
    "    if np.max(row) > 0.7:\n",
    "        print(np.argmax(row),np.max(row))\n",
    "        members.append(np.argmax(row))\n",
    "    else:\n",
    "        # set dodgy assignments equal to -1\n",
    "        print(-1, np.max(row))\n",
    "        members.append(-1)"
   ]
  },
  {
   "cell_type": "code",
   "execution_count": 6,
   "metadata": {
    "collapsed": false
   },
   "outputs": [
    {
     "name": "stdout",
     "output_type": "stream",
     "text": [
      "[['cow', 'sheep', 'dress'] ['next']]\n",
      "[['a', 'b', 'c', 'e'] ['cardiff', 'edinburgh'] ['more']]\n",
      "[['final', 'multiple params']]\n",
      "[['calum']]\n"
     ]
    }
   ],
   "source": [
    "for i in [-1,0,1,2]:\n",
    "    print(values[np.array(members)==i])"
   ]
  },
  {
   "cell_type": "code",
   "execution_count": 9,
   "metadata": {
    "collapsed": false
   },
   "outputs": [
    {
     "data": {
      "text/plain": [
       "(7,)"
      ]
     },
     "execution_count": 9,
     "metadata": {},
     "output_type": "execute_result"
    }
   ],
   "source": [
    "np.array(members).shape"
   ]
  },
  {
   "cell_type": "code",
   "execution_count": null,
   "metadata": {
    "collapsed": true
   },
   "outputs": [],
   "source": []
  }
 ],
 "metadata": {
  "kernelspec": {
   "display_name": "Python 3",
   "language": "python",
   "name": "python3"
  },
  "language_info": {
   "codemirror_mode": {
    "name": "ipython",
    "version": 3
   },
   "file_extension": ".py",
   "mimetype": "text/x-python",
   "name": "python",
   "nbconvert_exporter": "python",
   "pygments_lexer": "ipython3",
   "version": "3.5.1"
  }
 },
 "nbformat": 4,
 "nbformat_minor": 0
}

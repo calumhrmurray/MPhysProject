{
 "cells": [
  {
   "cell_type": "code",
   "execution_count": 4,
   "metadata": {
    "collapsed": true
   },
   "outputs": [],
   "source": [
    "import numpy as np\n",
    "import matplotlib.pyplot as plt\n",
    "import plotting_tools as pt\n",
    "%matplotlib inline\n",
    "\n",
    "import scipy.cluster.hierarchy.single as s\n",
    "\n",
    "from astropy.cosmology import FlatLambdaCDM\n",
    "import astropy.units as u\n",
    "\n",
    "cosmo = FlatLambdaCDM(H0=70 * u.km / u.s / u.Mpc, Om0=0.3)\n",
    "\n",
    "# exploring the properties of galaxies through multidimensional statistical analysis techniques \n",
    "# vespa data, galaxy zoo data, sdss\n",
    "# 0: stellar mass\n",
    "# 1: error\n",
    "# 2: SFR last 115 Myr\n",
    "# 3: dustVal ISM\n",
    "# 4: redshift\n",
    "# 5: prob. elliptical\n",
    "# 6: prob. spiral\n",
    "# 7: u\n",
    "# 8: g\n",
    "# 9: r\n",
    "# 10: i\n",
    "# 11: z\n",
    "# 12: petro r\n",
    "# 13: theta"
   ]
  },
  {
   "cell_type": "code",
   "execution_count": 2,
   "metadata": {
    "collapsed": true
   },
   "outputs": [],
   "source": [
    "galaxies = np.load('/home/calum/Documents/Mphys_data/vespa_data/vespa_properties.npy')"
   ]
  },
  {
   "cell_type": "code",
   "execution_count": 3,
   "metadata": {
    "collapsed": true
   },
   "outputs": [],
   "source": [
    "x = [float(row[12])-5*(np.log10(cosmo.luminosity_distance(row[4]).to(u.pc).value/10)) for row in galaxies]\n",
    "y = [row[7]-row[9] for row in galaxies]"
   ]
  },
  {
   "cell_type": "code",
   "execution_count": null,
   "metadata": {
    "collapsed": true
   },
   "outputs": [],
   "source": []
  }
 ],
 "metadata": {
  "kernelspec": {
   "display_name": "Python 3",
   "language": "python",
   "name": "python3"
  },
  "language_info": {
   "codemirror_mode": {
    "name": "ipython",
    "version": 3
   },
   "file_extension": ".py",
   "mimetype": "text/x-python",
   "name": "python",
   "nbconvert_exporter": "python",
   "pygments_lexer": "ipython3",
   "version": "3.5.1"
  }
 },
 "nbformat": 4,
 "nbformat_minor": 0
}

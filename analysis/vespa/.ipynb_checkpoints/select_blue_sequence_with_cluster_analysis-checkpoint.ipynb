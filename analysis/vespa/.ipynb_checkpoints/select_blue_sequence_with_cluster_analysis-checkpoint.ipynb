{
 "cells": [
  {
   "cell_type": "code",
   "execution_count": 1,
   "metadata": {
    "collapsed": true
   },
   "outputs": [],
   "source": [
    "import numpy as np\n",
    "import matplotlib.pyplot as plt\n",
    "import plotting_tools as pt\n",
    "%matplotlib inline\n",
    "\n",
    "from sklearn import decomposition\n",
    "import skfuzzy as fuzz\n",
    "from sklearn import preprocessing\n",
    "\n",
    "from astropy.cosmology import FlatLambdaCDM\n",
    "import astropy.units as u\n",
    "\n",
    "cosmo = FlatLambdaCDM(H0=70 * u.km / u.s / u.Mpc, Om0=0.3)\n",
    "\n",
    "def cluster(data,pca_data, num_clusters):\n",
    "    \n",
    "    # perform clustering\n",
    "    clf = KMeans(n_clusters=num_clusters)\n",
    "    clf.fit(pca_data)\n",
    "    centers = clf.cluster_centers_\n",
    "    labels = clf.predict(pca_data)\n",
    "         \n",
    "    # plot clusters\n",
    "    plt.figure(figsize=(20,10*num_clusters))\n",
    "    for i in range(0,num_clusters):\n",
    "        string = str(num_clusters)+'1'+str(i)\n",
    "        plt.subplot(string)\n",
    "        plot_contour(x['x_'+str(i)],y['y_'+str(i)])\n",
    "\n",
    "    print(clf)\n",
    "    \n",
    "    return  x,y,dust\n",
    "\n",
    "# exploring the properties of galaxies through multidimensional statistical analysis techniques \n",
    "# vespa data, galaxy zoo data, sdss\n",
    "# 0: stellar mass\n",
    "# 1: error\n",
    "# 2: SFR last 115 Myr\n",
    "# 3: dustVal ISM\n",
    "# 4: redshift\n",
    "# 5: prob. elliptical\n",
    "# 6: prob. spiral\n",
    "# 7: u\n",
    "# 8: g\n",
    "# 9: r\n",
    "# 10: i\n",
    "# 11: z\n",
    "# 12: petro r\n",
    "# 13: theta\n",
    "\n",
    "# PCA analysis followed by fuzzy clustering"
   ]
  },
  {
   "cell_type": "code",
   "execution_count": 2,
   "metadata": {
    "collapsed": false
   },
   "outputs": [],
   "source": [
    "galaxies = np.load('/home/calum/Documents/Mphys_data/vespa_data/vespa_properties.npy')"
   ]
  },
  {
   "cell_type": "code",
   "execution_count": 3,
   "metadata": {
    "collapsed": true
   },
   "outputs": [],
   "source": [
    "x = [float(row[12])-5*(np.log10(cosmo.luminosity_distance(row[4]).to(u.pc).value/10)) for row in galaxies]\n",
    "y = [row[7]-row[9] for row in galaxies]\n",
    "\n",
    "rgalaxies = [row for row in galaxies if row[4] > 0.004 and row[4] < 0.08]\n",
    "rx = [float(row[12])-5*(np.log10(cosmo.luminosity_distance(row[4]).to(u.pc).value/10)) for row in rgalaxies]\n",
    "ry = [row[7]-row[9] for row in rgalaxies]"
   ]
  },
  {
   "cell_type": "code",
   "execution_count": 4,
   "metadata": {
    "collapsed": false
   },
   "outputs": [],
   "source": [
    "data = []\n",
    "\n",
    "for row in galaxies:\n",
    "    if (row[4] > 0.004 and row[4] < 0.08) :\n",
    "        # log(stellar mass)\n",
    "        x0 = np.log(row[0])\n",
    "        # ISM dust value\n",
    "        x1 = row[3]\n",
    "        # redshift\n",
    "        # x2 = row[4]\n",
    "        # morphology\n",
    "        if row[5] > 0.8:\n",
    "            # elliptical\n",
    "            x3 = 1\n",
    "        elif row[6] > 0.8:\n",
    "            # spiral\n",
    "            x3 = -1\n",
    "        else:\n",
    "            # should we ommit these?\n",
    "            x3 = 0\n",
    "        # u-r colour 3\n",
    "        x4 = row[7]-row[9]\n",
    "        # absolute petro mag 4\n",
    "        x5 = float(row[12])-5*(np.log10(cosmo.luminosity_distance(row[4]).to(u.pc).value/10))\n",
    "        # surface brightness\n",
    "        x6 = row[9]+2.5*np.log10(2*np.pi*row[13]*row[13])\n",
    "\n",
    "        # append to data\n",
    "        #if x3 != 0:\n",
    "        #    data.append([x5,x4,x0,x1,x3,x6])\n",
    "        data.append([x5,x4])\n",
    "    "
   ]
  },
  {
   "cell_type": "code",
   "execution_count": 5,
   "metadata": {
    "collapsed": false
   },
   "outputs": [
    {
     "data": {
      "text/plain": [
       "(137166, 2)"
      ]
     },
     "execution_count": 5,
     "metadata": {},
     "output_type": "execute_result"
    }
   ],
   "source": [
    "data = np.array(data)\n",
    "data.shape"
   ]
  },
  {
   "cell_type": "code",
   "execution_count": 6,
   "metadata": {
    "collapsed": false
   },
   "outputs": [
    {
     "data": {
      "text/plain": [
       "array([[-0.58988132,  0.9558593 ],\n",
       "       [-0.98401926,  0.79775556],\n",
       "       [ 1.20116208, -1.41233013],\n",
       "       ..., \n",
       "       [-0.62412619, -0.21302996],\n",
       "       [-0.30129622, -0.70131722],\n",
       "       [ 0.97996296,  0.83139568]])"
      ]
     },
     "execution_count": 6,
     "metadata": {},
     "output_type": "execute_result"
    }
   ],
   "source": [
    "# normalising data\n",
    "data_scale = preprocessing.scale(data)\n",
    "data_scale"
   ]
  },
  {
   "cell_type": "code",
   "execution_count": 7,
   "metadata": {
    "collapsed": false
   },
   "outputs": [],
   "source": [
    "pca = decomposition.PCA(n_components=2)\n",
    "data_pca = pca.fit_transform(data_scale)"
   ]
  },
  {
   "cell_type": "code",
   "execution_count": 8,
   "metadata": {
    "collapsed": false
   },
   "outputs": [
    {
     "data": {
      "text/plain": [
       "(137166, 2)"
      ]
     },
     "execution_count": 8,
     "metadata": {},
     "output_type": "execute_result"
    }
   ],
   "source": [
    "data_pca.shape"
   ]
  },
  {
   "cell_type": "code",
   "execution_count": 10,
   "metadata": {
    "collapsed": false
   },
   "outputs": [],
   "source": [
    "cntr, u ,u0, d, jm, p, fpc = fuzz.cluster.cmeans(data_pca,3,2,error=0.1,maxiter=1000)"
   ]
  },
  {
   "cell_type": "code",
   "execution_count": null,
   "metadata": {
    "collapsed": true
   },
   "outputs": [],
   "source": []
  },
  {
   "cell_type": "code",
   "execution_count": null,
   "metadata": {
    "collapsed": true
   },
   "outputs": [],
   "source": []
  },
  {
   "cell_type": "code",
   "execution_count": null,
   "metadata": {
    "collapsed": true
   },
   "outputs": [],
   "source": []
  },
  {
   "cell_type": "code",
   "execution_count": null,
   "metadata": {
    "collapsed": true
   },
   "outputs": [],
   "source": []
  },
  {
   "cell_type": "code",
   "execution_count": null,
   "metadata": {
    "collapsed": true
   },
   "outputs": [],
   "source": []
  },
  {
   "cell_type": "code",
   "execution_count": null,
   "metadata": {
    "collapsed": true
   },
   "outputs": [],
   "source": []
  },
  {
   "cell_type": "code",
   "execution_count": null,
   "metadata": {
    "collapsed": true
   },
   "outputs": [],
   "source": []
  }
 ],
 "metadata": {
  "kernelspec": {
   "display_name": "Python 3",
   "language": "python",
   "name": "python3"
  },
  "language_info": {
   "codemirror_mode": {
    "name": "ipython",
    "version": 3
   },
   "file_extension": ".py",
   "mimetype": "text/x-python",
   "name": "python",
   "nbconvert_exporter": "python",
   "pygments_lexer": "ipython3",
   "version": "3.5.1"
  }
 },
 "nbformat": 4,
 "nbformat_minor": 0
}

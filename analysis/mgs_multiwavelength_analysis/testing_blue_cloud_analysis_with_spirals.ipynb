{
 "cells": [
  {
   "cell_type": "code",
   "execution_count": 14,
   "metadata": {
    "collapsed": true
   },
   "outputs": [],
   "source": [
    "import numpy as np\n",
    "import matplotlib.pyplot as plt\n",
    "import plotting_tools as pt\n",
    "%matplotlib inline\n",
    "import itertools\n",
    "\n",
    "from astropy.cosmology import FlatLambdaCDM\n",
    "import astropy.units as u\n",
    "\n",
    "cosmo = FlatLambdaCDM(H0=70 * u.km / u.s / u.Mpc, Om0=0.3)\n",
    "\n",
    "# This is because I have not yet managed to select the blue cloud\n",
    "# instead looking at spirals\n",
    "\n",
    "# multiwavelength cat data + galaxy zoo\n",
    "# 0 redshift\n",
    "# 1 zoo.p_el_debiased \n",
    "# 2 zoo.p_cs_debiased\n",
    "# 3 sdss.u\n",
    "# 4 sdss.g \n",
    "# 5 sdss.r \n",
    "# 6 sdss.i \n",
    "# 7 sdss.z\n",
    "# 8 sdss.petroMag_r\n",
    "# 9 sdss.petroR50_r\n",
    "# 10 ukidds.yPetroMag \n",
    "# 11 ukidds.hPetroMag\n",
    "# 12 ukidds.kPetroMag \n",
    "# 13 wise.w1mpro\n",
    "# 14 wise.w2mpro \n",
    "# 15 wise.w3mpro\n",
    "# 16 wise.w4mpro\n",
    "# 17 galex.nuv_mag\n",
    "# 18 galex.fuv_mag  "
   ]
  },
  {
   "cell_type": "code",
   "execution_count": 15,
   "metadata": {
    "collapsed": false
   },
   "outputs": [
    {
     "data": {
      "text/plain": [
       "(91606, 19)"
      ]
     },
     "execution_count": 15,
     "metadata": {},
     "output_type": "execute_result"
    }
   ],
   "source": [
    "# array\n",
    "galaxies = np.load('/home/calum/Documents/Mphys_data/mgs_multiwavelength/phot_morph.npy')\n",
    "galaxies.shape"
   ]
  },
  {
   "cell_type": "code",
   "execution_count": 24,
   "metadata": {
    "collapsed": false
   },
   "outputs": [
    {
     "data": {
      "text/plain": [
       "(26674, 19)"
      ]
     },
     "execution_count": 24,
     "metadata": {},
     "output_type": "execute_result"
    }
   ],
   "source": [
    "# select spirals\n",
    "spiral_galaxies = np.array([row for row in galaxies if row[2] > 0.8])\n",
    "spiral_galaxies.shape"
   ]
  },
  {
   "cell_type": "code",
   "execution_count": 16,
   "metadata": {
    "collapsed": false
   },
   "outputs": [],
   "source": [
    "# the different colours\n",
    "indices = [3,4,5,6,7,10,11,12,13,14,15,16,17,18]    \n",
    "colour_combos = [i for i in itertools.combinations(indices,2)]"
   ]
  },
  {
   "cell_type": "code",
   "execution_count": 29,
   "metadata": {
    "collapsed": false
   },
   "outputs": [],
   "source": [
    "for colrow in colour_combos:\n",
    "    x = [float(row[8])-5*(np.log10(cosmo.luminosity_distance(row[0]).to(u.pc).value/10)) \n",
    "         for row in spiral_galaxies if row[colrow[0]] > 0 and row[colrow[1]] > 0]\n",
    "    y = [row[colrow[0]]-row[colrow[1]] for row in spiral_galaxies if row[colrow[0]] > 0 and row[colrow[1]] > 0]    \n",
    "    plt.figure(figsize=(40,20))\n",
    "    pt.plot_contour(x,y,bins=50,lines=20, colours='k')\n",
    "    plt.xlim(-23,-18)\n",
    "    plt.title('Number of galaxies in plot: '+str(len(x)))\n",
    "    plt.savefig('img/spiral_contour'+str(colrow[0])+str(colrow[1])+'.png')\n",
    "    plt.close()"
   ]
  },
  {
   "cell_type": "code",
   "execution_count": null,
   "metadata": {
    "collapsed": false
   },
   "outputs": [],
   "source": []
  },
  {
   "cell_type": "code",
   "execution_count": null,
   "metadata": {
    "collapsed": false
   },
   "outputs": [],
   "source": []
  },
  {
   "cell_type": "code",
   "execution_count": null,
   "metadata": {
    "collapsed": true
   },
   "outputs": [],
   "source": []
  }
 ],
 "metadata": {
  "kernelspec": {
   "display_name": "Python 3",
   "language": "python",
   "name": "python3"
  },
  "language_info": {
   "codemirror_mode": {
    "name": "ipython",
    "version": 3
   },
   "file_extension": ".py",
   "mimetype": "text/x-python",
   "name": "python",
   "nbconvert_exporter": "python",
   "pygments_lexer": "ipython3",
   "version": "3.5.1"
  }
 },
 "nbformat": 4,
 "nbformat_minor": 0
}

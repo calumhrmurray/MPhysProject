{
 "cells": [
  {
   "cell_type": "code",
   "execution_count": 1,
   "metadata": {
    "collapsed": true
   },
   "outputs": [],
   "source": [
    "import numpy as np\n",
    "import matplotlib.pyplot as plt\n",
    "import kcorrect\n",
    "from astropy.cosmology import FlatLambdaCDM\n",
    "import astropy.units as u\n",
    "\n",
    "\n",
    "%matplotlib inline\n",
    "\n",
    "# this notebook is looking at how the final selection compares to the MGS in each band pass\n",
    "# 0 sdss.modelMag_u, \n",
    "# 1 sdss.modelMag_r, \n",
    "# 2 sdss.petroMag_r, \n",
    "# 3 spec.z, \n",
    "# 4 sdss.petroR50_r, \n",
    "# 5 galex.fuv_mag, \n",
    "# 6 galex.nuv_mag, \n",
    "# 7 sdss.modelMag_u, \n",
    "# 8 sdss.modelMag_g,\n",
    "# 9 sdss.modelMag_r,\n",
    "# 10 sdss.modelMag_i,\n",
    "# 11 sdss.modelMag_z\n",
    "# 12 ukidss.yPetroMag, \n",
    "# 13 ukidss.j_1PetroMag,\n",
    "# 14 ukidss.hPetroMag,\n",
    "# 15 ukidss.kPetroMag,\n",
    "# 16 wise.w1mpro ,  \n",
    "# 17 wise.w2mpro , \n",
    "# 18 wise.w3mpro , \n",
    "# 19 wise.w4mpro , \n",
    "# 20 galex.fuv_magerr,\n",
    "# 21 galex.nuv_magerr,\n",
    "# 22 sdss.modelMagErr_u ,\n",
    "# 23 sdss.modelMagErr_g , \n",
    "# 24 sdss.modelMagErr_r,\n",
    "# 25 sdss.modelMagErr_i, \n",
    "# 26 sdss.modelMagErr_z,\n",
    "# 27 ukidss.yPetroMagErr, \n",
    "# 28 ukidss.j_1PetroMagErr, \n",
    "# 29 ukidss.hPetroMagErr, \n",
    "# 30 ukidss.kPetroMagErr, \n",
    "# 31 wise.w1sigmpro, \n",
    "# 32 wise.w2sigmpro, \n",
    "# 33 wise.w3sigmpro, \n",
    "# 34 wise.w4sigmpro"
   ]
  },
  {
   "cell_type": "code",
   "execution_count": 2,
   "metadata": {
    "collapsed": true
   },
   "outputs": [],
   "source": [
    "cosmo = FlatLambdaCDM(H0=70 * u.km / u.s / u.Mpc, Om0=0.3)"
   ]
  },
  {
   "cell_type": "code",
   "execution_count": 3,
   "metadata": {
    "collapsed": false
   },
   "outputs": [
    {
     "data": {
      "text/plain": [
       "(61198, 35)"
      ]
     },
     "execution_count": 3,
     "metadata": {},
     "output_type": "execute_result"
    }
   ],
   "source": [
    "galaxies = np.load('/home/calum/Documents/Mphys_data/cat_check/cat_check_properties.npy')\n",
    "galaxies.shape"
   ]
  },
  {
   "cell_type": "code",
   "execution_count": 4,
   "metadata": {
    "collapsed": true
   },
   "outputs": [],
   "source": [
    "# load filters before hand - too slow to (and pointless) to load each time\n",
    "\n",
    "def perform_kcorrect(redshift,magnitudes,mag_ivars):\n",
    "    # remember to apply AB magnitude offsets\n",
    "    maggies = pow(10,-0.4*np.array(magnitudes))\n",
    "    maggies_ivar = pow(0.4*np.log(10)*maggies*np.array(mag_ivars),-2)\n",
    "    c = kcorrect.fit_nonneg(redshift,maggies,maggies_ivar)\n",
    "    rm = kcorrect.reconstruct_maggies(c)\n",
    "    rm0 = kcorrect.reconstruct_maggies(c,redshift=0.)\n",
    "    #print(magnitudes)\n",
    "    #print(-2.5*np.log10(rm[1:]),-2.5*np.log10(rm0[1:]))\n",
    "    #print(-2.5*np.log10(rm[1:]/rm0[1:]))\n",
    "    return -2.5*np.log10(rm[1:]/rm0[1:]) "
   ]
  },
  {
   "cell_type": "code",
   "execution_count": 5,
   "metadata": {
    "collapsed": true
   },
   "outputs": [],
   "source": [
    "# galex-sdss\n",
    "gkcorrections = []\n",
    "\n",
    "kcorrect.load_templates()\n",
    "kcorrect.load_filters(f='galex_sdss.dat')\n",
    "\n",
    "for row in galaxies:\n",
    "    # calculate kcorrections\n",
    "    ktuple = perform_kcorrect(row[3],row[5:12],row[20:27])\n",
    "    # store in array\n",
    "    gkcorrections.append([row[3],ktuple])"
   ]
  },
  {
   "cell_type": "code",
   "execution_count": null,
   "metadata": {
    "collapsed": true
   },
   "outputs": [],
   "source": [
    "# sdss-ukidss\n",
    "ukcorrections = []\n",
    "\n",
    "kcorrect.load_templates()\n",
    "kcorrect.load_filters(f='galex_sdss.dat')\n",
    "\n",
    "for row in galaxies:\n",
    "    # calculate kcorrections\n",
    "    ktuple = perform_kcorrect(row[3],row[5:12],row[20:27])\n",
    "    # store in array\n",
    "    gkcorrections.append([row[3],ktuple])"
   ]
  }
 ],
 "metadata": {
  "kernelspec": {
   "display_name": "Python 3",
   "language": "python",
   "name": "python3"
  },
  "language_info": {
   "codemirror_mode": {
    "name": "ipython",
    "version": 3
   },
   "file_extension": ".py",
   "mimetype": "text/x-python",
   "name": "python",
   "nbconvert_exporter": "python",
   "pygments_lexer": "ipython3",
   "version": "3.5.1"
  }
 },
 "nbformat": 4,
 "nbformat_minor": 0
}

{
 "cells": [
  {
   "cell_type": "code",
   "execution_count": 1,
   "metadata": {
    "collapsed": true
   },
   "outputs": [],
   "source": [
    "import numpy as np\n",
    "from astropy.io import fits"
   ]
  },
  {
   "cell_type": "code",
   "execution_count": 2,
   "metadata": {
    "collapsed": true
   },
   "outputs": [],
   "source": [
    "rand_ra = []\n",
    "rand_dec = []\n",
    "\n",
    "for _ in range(1000000):\n",
    "    rand_ra.append(np.float32(np.random.random_sample()*360.))\n",
    "    rand_dec.append(np.float32(np.random.random_sample()*180.-90))\n",
    "    \n",
    "np.min(rand_ra),np.max(rand_ra),np.min(rand_dec),np.max(rand_dec)\n",
    "\n",
    "tbhdu = fits.BinTableHDU.from_columns(\n",
    "    [fits.Column(name='RA', format='E', array=rand_ra),\n",
    "     fits.Column(name='DEC', format='E', array=rand_dec)])\n",
    "\n",
    "tbhdu.data\n",
    "\n",
    "tbhdu.writeto('/home/calum/Documents/Mphys_data/match_catalogs/new_random_coordinates.fits')"
   ]
  },
  {
   "cell_type": "code",
   "execution_count": null,
   "metadata": {
    "collapsed": true
   },
   "outputs": [],
   "source": []
  }
 ],
 "metadata": {
  "kernelspec": {
   "display_name": "Python 3",
   "language": "python",
   "name": "python3"
  },
  "language_info": {
   "codemirror_mode": {
    "name": "ipython",
    "version": 3
   },
   "file_extension": ".py",
   "mimetype": "text/x-python",
   "name": "python",
   "nbconvert_exporter": "python",
   "pygments_lexer": "ipython3",
   "version": "3.5.1"
  }
 },
 "nbformat": 4,
 "nbformat_minor": 0
}

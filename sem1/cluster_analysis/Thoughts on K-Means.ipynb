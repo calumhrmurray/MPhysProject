{
 "cells": [
  {
   "cell_type": "markdown",
   "metadata": {},
   "source": [
    "Started off by finding clusters in the CM-diagram. The only cluster variables used are $M_{r,petro}$ and $(u-r)_{colour}$. With 3 clusters this gives red cloud, blue cloud and the green valley. This doesn't work without scaling the variables. Biggest problem with K-Means currently is that it tries to find even clusters. \n",
    "\n",
    "K-Means does not work for our purposes because there is no reason why the clusters should be even.\n",
    "\n",
    "![title](red_blue_clouds.png)\n",
    "\n",
    "After this started looking at how dust extinction effects the clusters. The variables used in the following plots are $M_{r,petro}$, $(u-r)_{colour}$ and the dust extinction value (again scaled). We still see the clouds in the clusters but the relationship is not as tight as before. Now we also instead of the the valley we get a much larger middle contribution.\n",
    "\n",
    "![title](dust_3_clusters.png)\n",
    "\n",
    "For just 2 clusters we get the following,\n",
    "\n",
    "![title](dust_2_clusters.png)\n",
    "\n",
    "For 4 clusters,\n",
    "\n",
    "![title](dust_4_clusters.png)\n",
    "\n",
    "Higher and higher clusters just seems arbitrary. We just get similar looking results on the CM diagram but split into more different section.\n",
    "\n",
    "Now going to start ignoring the $M_{r,petro}$ and $(u-r)_{colour}$ varaibles and cluster on other variables whilst still looking at the structure this gives in the CM diagram.\n"
   ]
  },
  {
   "cell_type": "code",
   "execution_count": null,
   "metadata": {
    "collapsed": true
   },
   "outputs": [],
   "source": []
  }
 ],
 "metadata": {
  "kernelspec": {
   "display_name": "Python 3",
   "language": "python",
   "name": "python3"
  },
  "language_info": {
   "codemirror_mode": {
    "name": "ipython",
    "version": 3
   },
   "file_extension": ".py",
   "mimetype": "text/x-python",
   "name": "python",
   "nbconvert_exporter": "python",
   "pygments_lexer": "ipython3",
   "version": "3.5.1"
  }
 },
 "nbformat": 4,
 "nbformat_minor": 0
}

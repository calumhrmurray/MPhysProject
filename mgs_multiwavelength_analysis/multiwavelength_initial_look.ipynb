{
 "cells": [
  {
   "cell_type": "code",
   "execution_count": 2,
   "metadata": {
    "collapsed": true
   },
   "outputs": [],
   "source": [
    "import numpy as np\n",
    "import matplotlib.pyplot as plt\n",
    "import kcorrect \n",
    "import math\n",
    "from astropy.cosmology import FlatLambdaCDM\n",
    "import astropy.units as u\n",
    "%matplotlib inline"
   ]
  },
  {
   "cell_type": "markdown",
   "metadata": {
    "collapsed": true
   },
   "source": [
    " array input form\n",
    " ukidds: 0 yPetroMag, 1 yPetroMagErr, 2 hPetroMag, 3 hPetroMagErr, 4 kPetroMag, 5 kPetroMagErr,\n",
    " wise: 6 w1mpro, 7 w1sigmpro, 8 w2mpro , 9 w2sigmpro, 10 w3mpro, 11 w3sigmpro, 12 w4mpro, 13 w4sigmpro,\n",
    " galex: 14 nuv_mag, 15 nuv_magerr, 16 fuv_mag, 17 galex.fuv_magerr, \n",
    " sdss: 18 modelMag_u, 19 modelMag_g, 20 modelMag_r, 21 modelMag_i, 22 modelMag_z, 23 modelMagErr_u,               24 modelMagErr_g , 25 modelMagErr_r, 26 modelMagErr_i, 27 modelMagErr_z, 28 petroMagr,  m.z\n"
   ]
  },
  {
   "cell_type": "code",
   "execution_count": 3,
   "metadata": {
    "collapsed": true
   },
   "outputs": [],
   "source": [
    "def plot_hist(array,bin_num):\n",
    "    n, bins, patches = plt.hist(array,bins=bin_num)\n",
    "    plt.close()\n",
    "    return bins, n\n",
    "\n",
    "def make_graphs(file_str, nbins, title_str = None, save_str = 'images/null', x_lim = None, w = 20, h =10, colour='k'):\n",
    "    array = np.load(file_str)\n",
    "    print(array.shape)\n",
    "    # create histogram and convert from arcminutes to arcseconds\n",
    "    bins, n = plot_hist([row[1]*60. for row in array],nbins)\n",
    "      \n",
    "   \n",
    "    step = 0.5*(bins[1]-bins[0])\n",
    "    \n",
    "    fig = plt.figure(figsize=(w,h))\n",
    "    plt.plot(bins[:-1]+step, n, colour)\n",
    "    plt.xlabel('Distance (arcseconds)', fontsize ='12' )\n",
    "    plt.ylabel('Frequency', fontsize ='12')\n",
    "    if title_str != None:\n",
    "        plt.title(title_str)\n",
    "    plt.xlim(0,x_lim)\n",
    "    #plt.savefig(save_str)\n",
    "    \n",
    "    return "
   ]
  },
  {
   "cell_type": "code",
   "execution_count": 4,
   "metadata": {
    "collapsed": true
   },
   "outputs": [],
   "source": [
    "def plot_contour(x_contour,y_contour):            \n",
    "    # now let's overplot some contours. First we have to make a 2d\n",
    "    # histogram of the point distribution.\n",
    "    vals, xedges, yedges = np.histogram2d(x_contour, y_contour, bins=100)\n",
    "       \n",
    "    # Now we have the bin edges, but we want to find the bin centres to\n",
    "    # plot the contour positions - they're half way between the edges:\n",
    "    xbins = 0.5 * (xedges[:-1] + xedges[1:])\n",
    "    ybins = 0.5 * (yedges[:-1] + yedges[1:])\n",
    "    \n",
    "    # now plot the contours\n",
    "    plt.contour(xbins, ybins, vals.T, 10, colors='k')\n",
    "    #plt.xlim([-22,-17])\n",
    "    #plt.ylim([1.1,3.4])\n",
    "    plt.xlabel('M r,petro')\n",
    "    plt.ylabel('(u-r)model')\n",
    "    title_str = 'Observed bivariate distribution of the MGS in rest-frame color vs. absolute magnitude.'\n",
    "    plt.title(title_str)"
   ]
  },
  {
   "cell_type": "code",
   "execution_count": 25,
   "metadata": {
    "collapsed": false
   },
   "outputs": [],
   "source": [
    "def get_colours(filename,upper_mag_idx,lower_mag_idx):\n",
    "    \n",
    "    # data results\n",
    "    x = []\n",
    "    y = []\n",
    "    \n",
    "    # load items for kcorrections\n",
    "    \n",
    "    array = np.load(filename)\n",
    "    \n",
    "    print('Number of results:',len(array))\n",
    "    \n",
    "    for row in array:\n",
    "        if row[upper_mag_idx] > 0 and row[lower_mag_idx] > 0:\n",
    "            # kcorrect\n",
    "            if row[-1] > 0.004 and row[-1] < 0.08:\n",
    "                x.append(row[upper_mag_idx]-row[lower_mag_idx])\n",
    "                y.append(row[-2])\n",
    "    \n",
    "    return x,y  \n",
    "\n",
    "def plot_histogram(filename,upper_mag_idx,lower_mag_idx,nbins):\n",
    "    \n",
    "    x,y = get_colours(filename,upper_mag_idx,lower_mag_idx)\n",
    "\n",
    "    print(len(x),len(y))\n",
    "    \n",
    "    bins, n = plot_hist(x,nbins)\n",
    "    step = 0.5*(bins[1]-bins[0])\n",
    "\n",
    "    print(len(bins[:-1]),len(n))\n",
    "    \n",
    "    fig = plt.figure(figsize=(20,10))\n",
    "    plt.plot(bins[:-1]+step, n)\n",
    "    \n",
    "def look_at_colour(filename,i):\n",
    "    array = np.load(filename)\n",
    "\n",
    "    bins, n = plot_hist([row[i] for row in array if row[i] > 0],2000)\n",
    "    step = 0.5*(bins[1]-bins[0])\n",
    "\n",
    "    print(len(bins[:-1]),len(n))\n",
    "    \n",
    "    fig = plt.figure(figsize=(20,10))\n",
    "    plt.plot(bins[:-1]+step, n)   \n",
    "    print(len([row[i] for row in array if row[i] > 0]))"
   ]
  },
  {
   "cell_type": "code",
   "execution_count": 29,
   "metadata": {
    "collapsed": false
   },
   "outputs": [
    {
     "name": "stdout",
     "output_type": "stream",
     "text": [
      "Number of results: 115684\n",
      "37318 37318\n",
      "2000 2000\n"
     ]
    },
    {
     "data": {
      "image/png": "[encoded data removed]",
      "text/plain": [
       "<matplotlib.figure.Figure at 0x7fe9202449b0>"
      ]
     },
     "metadata": {},
     "output_type": "display_data"
    }
   ],
   "source": [
    "plot_histogram('/home/calum/Documents/Mphys_data/mgs_multiwavelength/first_all_colours.npy',20,0,2000)"
   ]
  },
  {
   "cell_type": "code",
   "execution_count": 20,
   "metadata": {
    "collapsed": false
   },
   "outputs": [
    {
     "name": "stdout",
     "output_type": "stream",
     "text": [
      "115684\n"
     ]
    }
   ],
   "source": [
    "array = np.load('/home/calum/Documents/Mphys_data/mgs_multiwavelength/first_all_colours.npy')\n",
    "print(len(array))"
   ]
  },
  {
   "cell_type": "code",
   "execution_count": 13,
   "metadata": {
    "collapsed": false
   },
   "outputs": [
    {
     "name": "stdout",
     "output_type": "stream",
     "text": [
      "2000 2000\n"
     ]
    },
    {
     "data": {
      "text/plain": [
       "(10, 20)"
      ]
     },
     "execution_count": 13,
     "metadata": {},
     "output_type": "execute_result"
    },
    {
     "data": {
      "image/png": "[encoded data removed]",
      "text/plain": [
       "<matplotlib.figure.Figure at 0x7fe92554d550>"
      ]
     },
     "metadata": {},
     "output_type": "display_data"
    }
   ],
   "source": [
    "bins, n = plot_hist([row[0] for row in array if row[0] > 0],2000)\n",
    "step = 0.5*(bins[1]-bins[0])\n",
    "\n",
    "print(len(bins[:-1]),len(n))\n",
    "    \n",
    "fig = plt.figure(figsize=(20,10))\n",
    "plt.plot(bins[:-1]+step, n)\n",
    "plt.xlim(10,20)"
   ]
  },
  {
   "cell_type": "code",
   "execution_count": 12,
   "metadata": {
    "collapsed": false
   },
   "outputs": [
    {
     "name": "stdout",
     "output_type": "stream",
     "text": [
      "0 6.91330385208 20.2822322845 -32545523.0627\n",
      "1 7.75894950493e-05 1.46364533901 -32545538.4414\n",
      "2 6.12592601776 17.9362506866 -25751156.7034\n",
      "3 6.24978347332e-05 0.608669221401 -25751171.0415\n",
      "4 6.00590181351 18.1354904175 -21204290.3366\n",
      "5 8.42035224196e-05 1.24249529839 -21204304.307\n",
      "6 4.03599977493 16.6630001068 14.2506768188\n",
      "7 0.019999999553 0.289999991655 0.0315939630464\n",
      "8 3.62599992752 16.9810009003 -25918.6616155\n",
      "9 0.0189999993891 0.533999979496 -95086.5132941\n",
      "10 2.88199996948 13.5240001678 -129652.305845\n",
      "11 0.00899999961257 0.542999982834 -156339603.797\n",
      "12 1.14100003242 9.94600009918 -34568.3187356\n",
      "13 0.01600000076 0.542999982834 -537593514.601\n",
      "14 12.4998874664 25.5195674896 -14.3953784931\n",
      "15 0.0004794022243 2.57717466354 -34.4254082334\n",
      "16 12.5912294388 25.6367263794 -300.823812136\n",
      "17 0.00298549886793 73.7121429443 -315.049158093\n",
      "18 12.3781013489 31.7713184357 19.4887166347\n",
      "19 12.4678163528 28.0471363068 17.944190016\n",
      "20 11.6914272308 27.8203811646 17.1555232826\n",
      "21 11.3048887253 28.9475460052 16.7533711112\n",
      "22 10.896282196 29.1837368011 16.4740057534\n",
      "23 0.0033506883774 27.0010299683 0.0717452607744\n",
      "24 0.00162073550746 25.2031707764 0.0104017922737\n",
      "25 0.00154935882892 8.22265815735 0.00845104918134\n",
      "26 0.000865998968948 55.1509628296 0.00885631825293\n",
      "27 0.00176734756678 51.2051811218 0.0198953356234\n",
      "28 0.000334392359946 17.4242782593 2.33506584167\n",
      "29 1.38925213378e-06 6.52966022491 0.103149127108\n"
     ]
    }
   ],
   "source": [
    "for i in range(0,30):\n",
    "    print(i,min([row[i] for row in array if row[i] > 0]),max([row[i] for row in array]),np.mean([row[i] for row in array]))"
   ]
  },
  {
   "cell_type": "markdown",
   "metadata": {},
   "source": [
    "# setting things up    \n",
    "cosmo = FlatLambdaCDM(H0=70 * u.km / u.s / u.Mpc, Om0=0.3)\n",
    "kcorrect.load_templates()\n",
    "kcorrect.load_filters()\n",
    "\n",
    "# form of input for fit_coeff\n",
    "# redshift umaggies gmaggies rmaggies imaggies zmaggies uinvvar ginvvar rinvvar iinvvar zinvvar\n",
    "# output: redshift u_rec g_rec r_rec i_rec z_rec\n",
    "    \n",
    "#tbl = pd.read_csv('/home/calum/QA_data/large_MGS_sample.csv') \n",
    "#array = tbl.as_matrix()\n",
    "\n",
    "x = []\n",
    "y = []\n",
    "\n",
    "array = np.load('/home/calum/Documents/MPhysProj/mgs_sample/mgs_kcorrect_array.npy')\n",
    "\n",
    "print('Number of results:',len(array))\n",
    "print('Starting for loop...')\n",
    "\n",
    "# need to sort out the coefficents so they're in units of maggies!\n",
    "#Note that the conversion to the inverse variances from the maggies and the magnitude errors is (0.4 ln(10) × maggies × magerr)-2\n",
    "# maggies are simply related to magnitudes by 10−0.4m\n",
    "for row in array:\n",
    "    # kcorrect\n",
    "    maggies = np.array(pow(10,-0.4*row[2:7]))\n",
    "    invar = pow(0.4*math.log(10)*maggies*np.array(row[7:-2]),-2) \n",
    "    k_tuple = np.concatenate(([row[1]],maggies,invar))\n",
    "    kcorrect_tuple = kcorrect.fit_coeffs(k_tuple)\n",
    "    k_coeff = kcorrect.reconstruct_maggies(kcorrect_tuple)\n",
    "    final_input = maggies/np.array(k_coeff[1:])\n",
    "    kcorrection_array = [-2.5*math.log(item,10) for item in final_input]\n",
    "    # put above in a function probs \n",
    "    y_val = float(row[2]) - kcorrection_array[1] - float(row[4]) + kcorrection_array[3]\n",
    "    z = k_coeff[0]\n",
    "    if y_val > 0 and y_val < 3.5:\n",
    "        if z > 0.004 and z < 0.080:\n",
    "            x_val = float(row[0])-5*(math.log(cosmo.luminosity_distance(z).to(u.pc).value/10 ,10))\n",
    "            if x_val < -15.5 and x_val > -23.5: \n",
    "                x.append(x_val)\n",
    "                y.append(y_val)"
   ]
  },
  {
   "cell_type": "code",
   "execution_count": 10,
   "metadata": {
    "collapsed": false
   },
   "outputs": [
    {
     "data": {
      "text/plain": [
       "(115684, 30)"
      ]
     },
     "execution_count": 10,
     "metadata": {},
     "output_type": "execute_result"
    }
   ],
   "source": [
    "array.shape"
   ]
  },
  {
   "cell_type": "code",
   "execution_count": null,
   "metadata": {
    "collapsed": true
   },
   "outputs": [],
   "source": []
  }
 ],
 "metadata": {
  "kernelspec": {
   "display_name": "Python 3",
   "language": "python",
   "name": "python3"
  },
  "language_info": {
   "codemirror_mode": {
    "name": "ipython",
    "version": 3
   },
   "file_extension": ".py",
   "mimetype": "text/x-python",
   "name": "python",
   "nbconvert_exporter": "python",
   "pygments_lexer": "ipython3",
   "version": "3.5.1"
  }
 },
 "nbformat": 4,
 "nbformat_minor": 0
}
